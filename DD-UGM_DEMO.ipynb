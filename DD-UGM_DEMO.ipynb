## test
import numpy as np
test1 = np.zeros();
